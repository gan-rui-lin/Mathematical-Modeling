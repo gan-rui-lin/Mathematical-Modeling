{
 "cells": [
  {
   "cell_type": "markdown",
   "id": "0ff26535",
   "metadata": {},
   "source": [
    "### `cvxopt.solvers.lp`函数\n",
    "\n",
    "**cvxopt.solvers.lp(c, G, h, A=None, b=None, solver=None)**  \n",
    "   用于求解线性规划问题：\n",
    "   $$\n",
    "   \\text{min} \\quad c^T x\n",
    "   $$\n",
    "   subject to\n",
    "   $$\n",
    "   Gx \\leq h \\quad \\text{and} \\quad Ax = b\n",
    "   $$\n",
    "   - `c`：目标函数的系数向量。\n",
    "   - `G`：不等式约束矩阵。\n",
    "   - `h`：不等式约束的右端项。\n",
    "   - `A`：等式约束矩阵。\n",
    "   - `b`：等式约束的右端项。\n",
    "   - `solver`：指定使用的求解器。\n",
    "\n",
    "   返回值包含优化结果，主要关注 `x`（最优解）。"
   ]
  },
  {
   "cell_type": "code",
   "execution_count": 1,
   "id": "84f5108c",
   "metadata": {},
   "outputs": [],
   "source": [
    "\n",
    "from cvxopt import matrix, solvers\n",
    "import numpy as np\n"
   ]
  },
  {
   "cell_type": "markdown",
   "id": "760919b3",
   "metadata": {},
   "source": [
    "最小化： $z = -x_1 - 2x_2$\n",
    "\n",
    "约束条件：\n",
    "\\begin{align}\n",
    "x_1 + x_2 \\le 6  \\\\\n",
    "x_2 \\le 3  \\\\\n",
    "x_1 \\ge 0, x_2 \\ge 0\n",
    "\\end{align}"
   ]
  },
  {
   "cell_type": "code",
   "execution_count": null,
   "id": "90dc2cad",
   "metadata": {},
   "outputs": [
    {
     "name": "stdout",
     "output_type": "stream",
     "text": [
      "     pcost       dcost       gap    pres   dres   k/t\n",
      " 0: -6.6000e+00 -2.1000e+01  1e+01  0e+00  7e-01  1e+00\n",
      " 1: -7.9545e+00 -9.9676e+00  1e+00  9e-17  1e-01  1e-01\n",
      " 2: -8.9781e+00 -9.0404e+00  4e-02  1e-16  3e-03  6e-03\n",
      " 3: -8.9998e+00 -9.0004e+00  4e-04  2e-16  3e-05  6e-05\n",
      " 4: -9.0000e+00 -9.0000e+00  4e-06  3e-16  3e-07  6e-07\n",
      " 5: -9.0000e+00 -9.0000e+00  4e-08  2e-16  3e-09  6e-09\n",
      "Optimal solution found.\n",
      "Optimal value: -8.999999978109532\n",
      "Optimal solution: [3.         2.99999999]\n"
     ]
    }
   ],
   "source": [
    "\n",
    "\n",
    "# c, G, h, A, b\n",
    "# 目标函数系数\n",
    "c = matrix([-1.0, -2.0])\n",
    "# 不等式约束矩阵和向量\n",
    "# CVXOPT 按列存放!!用 numpy 库即可按行存放\n",
    "G = matrix(\n",
    "    np.array(\n",
    "        [\n",
    "       [1., 1.],\n",
    "       [0., 1.],\n",
    "       [-1., 0.],\n",
    "       [0., -1.]]\n",
    "    )\n",
    "    \n",
    ")\n",
    "h = matrix([6., 3., 0., 0.])\n",
    "\n",
    "sol = solvers.lp(c, G, h)\n",
    "\n",
    "print(\"Optimal value:\", sol['primal objective'])\n",
    "print(\"Optimal solution:\", np.array(sol['x']).flatten())    \n"
   ]
  },
  {
   "cell_type": "markdown",
   "id": "f95744e5",
   "metadata": {},
   "source": [
    "最小化 $z = 2x + 3y$\n",
    "\n",
    "其中, x + y = 10, 2x + y >= 12, x >= 0, y >= 0"
   ]
  },
  {
   "cell_type": "code",
   "execution_count": 14,
   "id": "f70b5ee9",
   "metadata": {},
   "outputs": [
    {
     "name": "stdout",
     "output_type": "stream",
     "text": [
      "     pcost       dcost       gap    pres   dres   k/t\n",
      " 0:  2.6000e+01  4.2000e+01  2e+01  0e+00  1e+00  1e+00\n",
      " 1:  2.4234e+01  2.7998e+01  4e+00  4e-17  3e-01  4e-01\n",
      " 2:  2.0055e+01  2.0542e+01  5e-01  7e-16  3e-02  1e-01\n",
      " 3:  2.0001e+01  2.0005e+01  5e-03  3e-16  3e-04  1e-03\n",
      " 4:  2.0000e+01  2.0000e+01  5e-05  3e-16  3e-06  1e-05\n",
      " 5:  2.0000e+01  2.0000e+01  5e-07  4e-16  3e-08  1e-07\n",
      "Optimal solution found.\n",
      "Optimal value (z): 20.000000056436495\n",
      "Optimal solution (x, y): [9.999999943563495, 5.6436501380115744e-08]\n"
     ]
    }
   ],
   "source": [
    "c = matrix([2., 3.])\n",
    "\n",
    "G = (matrix([[-2.0, -1.0],\n",
    "            [-1.0, 0.0],\n",
    "            [0.0, -1.0]])).T # 再转置，可读性更高\n",
    "\n",
    "h = matrix([-12., 0., 0.])\n",
    "\n",
    "A = matrix([[1., 1.]]).T\n",
    "b = matrix([10.])\n",
    "\n",
    "sol = solvers.lp(c, G, h, A, b)\n",
    "\n",
    "print(\"Optimal value (z):\", sol['primal objective'])\n",
    "print(\"Optimal solution (x, y):\", list(sol['x']))"
   ]
  }
 ],
 "metadata": {
  "kernelspec": {
   "display_name": "math_env",
   "language": "python",
   "name": "python3"
  },
  "language_info": {
   "codemirror_mode": {
    "name": "ipython",
    "version": 3
   },
   "file_extension": ".py",
   "mimetype": "text/x-python",
   "name": "python",
   "nbconvert_exporter": "python",
   "pygments_lexer": "ipython3",
   "version": "3.10.18"
  }
 },
 "nbformat": 4,
 "nbformat_minor": 5
}
