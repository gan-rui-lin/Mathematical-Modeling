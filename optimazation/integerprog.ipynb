{
 "cells": [
  {
   "cell_type": "markdown",
   "id": "4a2be9b6",
   "metadata": {},
   "source": [
    "**整数规划（Integer Programming，IP）**是**线性规划（Linear Programming，LP）**的一种扩展，其中**部分或全部决策变量被限制为整数**。\n",
    "\n",
    "整数规划在很多实际问题中都能很好地应用，特别是在资源分配、调度问题、物流管理、网络设计等领域。由于整数规划的求解需要考虑整数约束，这使得其求解通常比普通的线性规划更加复杂。\n",
    "\n"
   ]
  },
  {
   "cell_type": "markdown",
   "id": "8842a604",
   "metadata": {},
   "source": [
    "## 1. 整数规划的标准形式\n",
    "\n",
    "$$\n",
    "\\begin{aligned}\n",
    "& \\text{min/max} \\quad c^T x \\\\\n",
    "& ~~ \\text{subject to}~~\n",
    "\\begin{cases}\n",
    "Ax \\leq b \\\\\n",
    "x_i \\in \\mathbb{Z} \\quad \\text{for some or all} \\quad i\n",
    "\\end{cases}\n",
    "\\end{aligned}\n",
    "$$\n",
    "\n",
    "其中：\n",
    "- $ x \\in \\mathbb{R}^n $ 是决策变量向量，可能有些变量是整数，有些是连续变量。\n",
    "- $ c $ 是目标函数的系数向量。\n",
    "- $ A $ 是约束条件的系数矩阵，$ b $ 是约束条件的右侧向量。\n",
    "- $ x_i \\in \\mathbb{Z} $ 表示第 $ i $ 个决策变量必须为整数，可能是所有变量（纯整数规划），也可能仅有部分变量（混合整数规划）。\n",
    "\n"
   ]
  },
  {
   "cell_type": "markdown",
   "id": "2a45cd9f",
   "metadata": {
    "vscode": {
     "languageId": "plaintext"
    }
   },
   "source": [
    "* **0-1整数规划（0-1 Integer Programming）**\n",
    "\n",
    "  0-1整数规划是一种特殊的整数规划，其**决策变量只能取两个值：0或1。**\n",
    "\n",
    "  它常用于建模\"是/否\"类型的决策问题。例如：是否选择某个方案（1表示选择，0表示不选择）；是否建立某个设施（1表示建立，0表示不建立）。\n",
    "\n",
    "  数学形式：\n",
    "\n",
    "$$\n",
    "\\begin{aligned}\n",
    "& \\text{min/max}  ~~ c^T x \\\\\n",
    "& ~~ \\text{subject to}~~\n",
    "\\begin{cases}\n",
    "Ax \\leq b \\\\\n",
    "x_i \\in \\{0, 1\\} ~~ \\text{for all} ~~ i\n",
    "\\end{cases}\n",
    "\\end{aligned}\n",
    "$$\n"
   ]
  },
  {
   "cell_type": "markdown",
   "id": "a846b08e",
   "metadata": {},
   "source": [
    "### 例1. \n",
    "\n",
    "利用`cvxpy`库求解下列整数线性规划问题\n",
    "    $$\n",
    "    \\begin{aligned}\n",
    "    & \\min ~~ z=40x_1+90x_2  \\\\\n",
    "    & ~~ \\text{subject to} ~~ \\left\\{\n",
    "    \\begin{array}{l}\n",
    "      9x_1+7x_2 \\le 56, \\\\[.05in]\n",
    "      7x_1+20x_2 \\ge 70, \\\\[.05in]\n",
    "      x_1,x_2\\ge 0~\\text{为整数}\n",
    "    \\end{array}\n",
    "    \\right.\n",
    "    \\end{aligned}\n",
    "    $$"
   ]
  },
  {
   "cell_type": "code",
   "execution_count": 1,
   "id": "cc93a215",
   "metadata": {},
   "outputs": [
    {
     "data": {
      "text/plain": [
       "(array(2.), array(3.), np.float64(350.0))"
      ]
     },
     "execution_count": 1,
     "metadata": {},
     "output_type": "execute_result"
    }
   ],
   "source": [
    "import cvxpy as cp\n",
    "\n",
    "x1 = cp.Variable(integer=True)\n",
    "x2 = cp.Variable(integer=True)\n",
    "\n",
    "func = 40 * x1 + 90 * x2\n",
    "\n",
    "objective = cp.Minimize(func)\n",
    "\n",
    "constraints = [\n",
    "    9*x1 + 7*x2 <= 56,\n",
    "    7*x1 + 20*x2 >= 70,\n",
    "    x1 >= 0,\n",
    "    x2 >= 0\n",
    "]\n",
    "\n",
    "problem = cp.Problem(objective, constraints)   \n",
    "\n",
    "problem.solve()\n",
    "\n",
    "# 从定义的 Variable 变量里面获取解\n",
    "x1_value = x1.value\n",
    "x2_value = x2.value\n",
    "objective_value = problem.value\n",
    "\n",
    "x1_value, x2_value, objective_value\n"
   ]
  },
  {
   "cell_type": "markdown",
   "id": "13df12df",
   "metadata": {},
   "source": [
    "### 例3\n",
    "\n",
    "假设有 **5个物品**，每个物品的 **价值** 和 **重量** 如下表所示。现需要将这些物品放入一个容量为 **50kg** 的箱子中，目标是最大化装入箱子的总价值。每个物品只能选择装入或不装入。\n",
    "\n",
    "| 物品 | 价值 $v_i$ (元) | 重量 $w_i$ (kg) |\n",
    "|------|------------------------|------------------------|\n",
    "| 1    | 60                     | 10                     |\n",
    "| 2    | 100                    | 20                     |\n",
    "| 3    | 120                    | 30                     |\n",
    "| 4    | 80                     | 40                     |\n",
    "| 5    | 50                     | 30                     |\n",
    "\n",
    "箱子的容量为 **50**。\n",
    "\n",
    "#### 数学建模\n",
    "\n",
    "1. **决策变量**：\n",
    "   - $ x_i \\in \\{0, 1\\} $ 表示第 $i$ 个物品是否被装入箱子中。若 $x_i = 1$，则装入物品；若 $x_i = 0$，则不装入。\n",
    "\n",
    "2. **目标函数**：\n",
    "   - 我们的目标是最大化装入箱子的物品总价值，即：\n",
    "     $$\n",
    "     \\max \\sum_{i=1}^{5} v_i x_i\n",
    "     $$\n",
    "     其中 $v_i$ 是第 $i$ 个物品的价值。\n",
    "\n",
    "3. **约束条件**：\n",
    "   - **重量限制**：箱子的总重量不能超过容量 50 kg，即：\n",
    "     $$\n",
    "     \\sum_{i=1}^{5} w_i x_i \\leq 50\n",
    "     $$\n",
    "     其中 $w_i$ 是第 $i$ 个物品的重量。\n",
    "\n",
    "4. **变量约束**：\n",
    "   - $ x_i \\in \\{0, 1\\} $，即每个物品只能选择装入或不装入箱子。\n",
    "\n",
    "#### 标准形式\n",
    "\n",
    "\n",
    "  $$\n",
    "  \\begin{aligned}\n",
    "  & \\max \\sum_{i=1}^{5} v_i x_i \\\\\n",
    "  & ~~\\text{subject to} ~~\n",
    "  \\begin{cases}\n",
    "  \\displaystyle \\sum_{i=1}^{5} w_i x_i \\leq 50 \\\\\n",
    "  x_i \\in \\{0, 1\\} \\quad \\text{for} \\quad i = 1, 2, \\dots, 5\n",
    "  \\end{cases}\n",
    "  \\end{aligned}\n",
    "  $$\n",
    "  "
   ]
  },
  {
   "cell_type": "code",
   "execution_count": null,
   "id": "dd97540b",
   "metadata": {},
   "outputs": [
    {
     "data": {
      "text/plain": [
       "(array([0., 1., 1., 0., 0.]), np.float64(220.0))"
      ]
     },
     "execution_count": 3,
     "metadata": {},
     "output_type": "execute_result"
    }
   ],
   "source": [
    "import cvxpy as cp\n",
    "import numpy as np\n",
    "\n",
    "values = np.array([60,100,120,80,50])\n",
    "\n",
    "weights = np.array([10, 20, 30, 40, 50])\n",
    "\n",
    "capacity = 50\n",
    "\n",
    "# 提供一个 shape\n",
    "x = cp.Variable(len(values), boolean=True)\n",
    "\n",
    "objective = cp.Maximize(values @ x)\n",
    "\n",
    "constraints = [\n",
    "    weights @ x <= capacity,\n",
    "    x >= 0\n",
    "]\n",
    "\n",
    "problem = cp.Problem(objective, constraints)\n",
    "\n",
    "problem.solve()\n",
    "\n",
    "x.value, problem.value\n",
    "\n"
   ]
  },
  {
   "cell_type": "markdown",
   "id": "a8a47bcf",
   "metadata": {},
   "source": [
    "### 综合建模\n",
    "\n",
    "| 规格 | C$_1$ | C$_2$ | C$_3$ | C$_4$ | C$_5$ | C$_6$ | C$_7$ |\n",
    "|------|--------|--------|--------|--------|--------|--------|--------|\n",
    "| 厚度 $l$ (cm) | 48.7   | 52.0   | 61.3   | 72.0   | 48.7   | 52.0   | 64.0   |\n",
    "| 重量 $w$ (kg) | 2000   | 3000   | 1000   | 500    | 4000   | 2000   | 1000   |\n",
    "| 件数 $a$      | 8      | 7      | 9      | 6      | 6      | 4      | 8      |\n",
    "\n",
    "\n",
    "\n",
    "\n",
    "假设我们有 **7种规格** 的包装箱，需要将它们装入 **两辆铁路平板车**，每辆平板车有 **10.2 米** 长的空间和 **40 吨** 的载重。为了使两辆平板车的空间和载重得到充分利用，目标是最优化装箱方案(求给出最好的装运方式，使得两辆铁路平板车的空间和载重得到充分利用。)，确保符合以下限制条件。\n",
    "\n",
    "1. **决策变量**\n",
    "\n",
    "设决策变量 $x_{ij}$ 表示在第 $i$ 辆平板车（$i = 1, 2$）上装第 $j$ 种包装箱（$j = 1, 2, \\dots, 7$）的装载数量。\n",
    "\n",
    "2. **约束条件**\n",
    "\n",
    "    1. **空间限制**：\n",
    "   每辆平板车的总厚度不能超过 10.2 米（即 1020 cm）。因此，平板车上的总厚度应满足：\n",
    "   $$\n",
    "   \\sum_{j=1}^7 l_j \\cdot x_{ij} \\leq 1020 \\quad \\text{for} \\quad i = 1, 2\n",
    "   $$\n",
    "   \n",
    "    2. **载重限制**：\n",
    "   每辆平板车的总重量不能超过 40 吨（即 40000 kg）。因此，平板车上的总重量应满足：\n",
    "   $$\n",
    "   \\sum_{j=1}^7 w_j \\cdot x_{ij} \\leq 40000 \\quad \\text{for} \\quad i = 1, 2\n",
    "   $$\n",
    "   其中，$w_i$ 是第 $i$ 种包装箱的重量（单位：千克）。\n",
    "\n",
    "    3. **包装箱数量限制**：\n",
    "   每种包装箱的数量不能超过给定的数量 $a_i$。即：\n",
    "   $$\n",
    "   0 \\leq \\sum_{i=1}^2 x_{ij} \\leq a_j \\quad \\text{for} \\quad j = 1, 2, \\dots, 7\n",
    "   $$\n",
    "   \n",
    "    4. **特殊限制**：\n",
    "   对于 C$_5$、C$_6$、C$_7$ 类包装箱的总厚度有一个特别的限制，总厚度不能超过 302.7 cm。即：\n",
    "   $$\n",
    "   \\sum_{j=5}^7 l_i \\cdot (x_{1j}+x_{2j}) \\leq 302.7 \\quad \\text{for} \\quad i = 1, 2\n",
    "   $$"
   ]
  },
  {
   "cell_type": "code",
   "execution_count": null,
   "id": "69ab4441",
   "metadata": {},
   "outputs": [
    {
     "ename": "ValueError",
     "evalue": "The 'maximize' objective must resolve to a scalar.",
     "output_type": "error",
     "traceback": [
      "\u001b[0;31m---------------------------------------------------------------------------\u001b[0m",
      "\u001b[0;31mValueError\u001b[0m                                Traceback (most recent call last)",
      "Cell \u001b[0;32mIn[8], line 19\u001b[0m\n\u001b[1;32m      9\u001b[0m constraints \u001b[38;5;241m=\u001b[39m [\n\u001b[1;32m     10\u001b[0m     \n\u001b[1;32m     11\u001b[0m     x \u001b[38;5;241m>\u001b[39m\u001b[38;5;241m=\u001b[39m \u001b[38;5;241m0\u001b[39m,\n\u001b[0;32m   (...)\u001b[0m\n\u001b[1;32m     15\u001b[0m     cp\u001b[38;5;241m.\u001b[39msum(x,axis\u001b[38;5;241m=\u001b[39m\u001b[38;5;241m0\u001b[39m,keepdims\u001b[38;5;241m=\u001b[39m\u001b[38;5;28;01mTrue\u001b[39;00m)\u001b[38;5;241m<\u001b[39m\u001b[38;5;241m=\u001b[39ma\u001b[38;5;241m.\u001b[39mreshape(\u001b[38;5;241m1\u001b[39m,\u001b[38;5;241m7\u001b[39m),\n\u001b[1;32m     16\u001b[0m ]\n\u001b[1;32m     18\u001b[0m \u001b[38;5;66;03m# 若希望装箱总厚度最大，即尽可能在体积上多装\u001b[39;00m\n\u001b[0;32m---> 19\u001b[0m objective \u001b[38;5;241m=\u001b[39m \u001b[43mcp\u001b[49m\u001b[38;5;241;43m.\u001b[39;49m\u001b[43mMaximize\u001b[49m\u001b[43m(\u001b[49m\u001b[43mx\u001b[49m\u001b[43m \u001b[49m\u001b[38;5;241;43m@\u001b[39;49m\u001b[43m \u001b[49m\u001b[43mL\u001b[49m\u001b[43m)\u001b[49m\n\u001b[1;32m     21\u001b[0m prob \u001b[38;5;241m=\u001b[39m cp\u001b[38;5;241m.\u001b[39mProblem(objective, constraints)\n\u001b[1;32m     22\u001b[0m prob\u001b[38;5;241m.\u001b[39msolve(solver\u001b[38;5;241m=\u001b[39mcp\u001b[38;5;241m.\u001b[39mGLPK_MI)\n",
      "File \u001b[0;32m~/develop/miniconda3/envs/math_env/lib/python3.10/site-packages/cvxpy/problems/objective.py:47\u001b[0m, in \u001b[0;36mObjective.__init__\u001b[0;34m(self, expr)\u001b[0m\n\u001b[1;32m     45\u001b[0m \u001b[38;5;66;03m# Validate that the objective resolves to a scalar.\u001b[39;00m\n\u001b[1;32m     46\u001b[0m \u001b[38;5;28;01mif\u001b[39;00m \u001b[38;5;129;01mnot\u001b[39;00m \u001b[38;5;28mself\u001b[39m\u001b[38;5;241m.\u001b[39margs[\u001b[38;5;241m0\u001b[39m]\u001b[38;5;241m.\u001b[39mis_scalar():\n\u001b[0;32m---> 47\u001b[0m     \u001b[38;5;28;01mraise\u001b[39;00m \u001b[38;5;167;01mValueError\u001b[39;00m(\u001b[38;5;124m\"\u001b[39m\u001b[38;5;124mThe \u001b[39m\u001b[38;5;124m'\u001b[39m\u001b[38;5;132;01m%s\u001b[39;00m\u001b[38;5;124m'\u001b[39m\u001b[38;5;124m objective must resolve to a scalar.\u001b[39m\u001b[38;5;124m\"\u001b[39m\n\u001b[1;32m     48\u001b[0m                      \u001b[38;5;241m%\u001b[39m \u001b[38;5;28mself\u001b[39m\u001b[38;5;241m.\u001b[39mNAME)\n\u001b[1;32m     49\u001b[0m \u001b[38;5;28;01mif\u001b[39;00m \u001b[38;5;129;01mnot\u001b[39;00m \u001b[38;5;28mself\u001b[39m\u001b[38;5;241m.\u001b[39margs[\u001b[38;5;241m0\u001b[39m]\u001b[38;5;241m.\u001b[39mis_real():\n\u001b[1;32m     50\u001b[0m     \u001b[38;5;28;01mraise\u001b[39;00m \u001b[38;5;167;01mValueError\u001b[39;00m(\u001b[38;5;124m\"\u001b[39m\u001b[38;5;124mThe \u001b[39m\u001b[38;5;124m'\u001b[39m\u001b[38;5;132;01m%s\u001b[39;00m\u001b[38;5;124m'\u001b[39m\u001b[38;5;124m objective must be real valued.\u001b[39m\u001b[38;5;124m\"\u001b[39m\n\u001b[1;32m     51\u001b[0m                      \u001b[38;5;241m%\u001b[39m \u001b[38;5;28mself\u001b[39m\u001b[38;5;241m.\u001b[39mNAME)\n",
      "\u001b[0;31mValueError\u001b[0m: The 'maximize' objective must resolve to a scalar."
     ]
    }
   ],
   "source": []
  },
  {
   "cell_type": "code",
   "execution_count": null,
   "id": "d00d3c5e",
   "metadata": {},
   "outputs": [
    {
     "name": "stdout",
     "output_type": "stream",
     "text": [
      "optimal value: 2039.4\n",
      "optimal solution:\n",
      "[[4. 1. 5. 3. 3. 2. 0.]\n",
      " [4. 6. 4. 3. 0. 1. 0.]]\n"
     ]
    }
   ],
   "source": [
    "# 厚度 L\n",
    "L = np.array([48.7,52.0,61.3,72.0,48.7,52.0,64.0])\n",
    "# 载重 w\n",
    "w = np.array([2000,3000,1000,500,4000,2000,1000])\n",
    "# 个数 a\n",
    "a = np.array([8,7,9,6,6,4,8])\n",
    "\n",
    "x = cp.Variable((2, len(L)), integer=True) # 两辆车\n",
    "\n",
    "constraints = [\n",
    "    \n",
    "    x >= 0,\n",
    "    x @ L <= 1020, \n",
    "    x @ w <= 40000,\n",
    "    cp.sum(x[:, 4:] @ L[4 : ]) <= 302.7,\n",
    "    # 件数要求\n",
    "    # cp.sum(x,axis=0,keepdims=True)<=a.reshape(1,7),\n",
    "    cp.sum(x, axis=0) <= a,\n",
    "]\n",
    "\n",
    "# 若希望装箱总厚度最大，即尽可能在体积上多装\n",
    "objective = cp.Maximize(cp.sum(x @ L)) # 两个维度的和\n",
    "\n",
    "prob = cp.Problem(objective, constraints)\n",
    "prob.solve(solver=cp.GLPK_MI)\n",
    "print(f\"optimal value: {prob.value}\")\n",
    "print(f\"optimal solution:\\n{x.value}\")\n"
   ]
  }
 ],
 "metadata": {
  "kernelspec": {
   "display_name": "math_env",
   "language": "python",
   "name": "python3"
  },
  "language_info": {
   "codemirror_mode": {
    "name": "ipython",
    "version": 3
   },
   "file_extension": ".py",
   "mimetype": "text/x-python",
   "name": "python",
   "nbconvert_exporter": "python",
   "pygments_lexer": "ipython3",
   "version": "3.10.18"
  }
 },
 "nbformat": 4,
 "nbformat_minor": 5
}
