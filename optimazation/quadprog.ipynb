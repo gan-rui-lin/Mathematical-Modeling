{
 "cells": [
  {
   "cell_type": "markdown",
   "id": "35a166fd",
   "metadata": {},
   "source": [
    "局部最优和全局最优\n",
    "\n",
    "**cvxopt.solvers模块中的标准形式：**\n",
    "\n",
    "$$\n",
    "\\begin{aligned}\n",
    "& \\min ~~  \\frac{1}{2}\\mathbf{x}^T\\mathbf{Q}\\mathbf{x} + \\mathbf{p}^T\\mathbf{x}, \\\\\n",
    "& \\text{s.t.} ~~ \n",
    "\\begin{cases}\n",
    "\\mathbf{G}\\mathbf{x} \\leq \\mathbf{h}, \\\\\n",
    "\\mathbf{A}\\mathbf{x} = \\mathbf{b}.\n",
    "\\end{cases}\n",
    "\\end{aligned}\n",
    "$$"
   ]
  },
  {
   "cell_type": "markdown",
   "id": "4550c11c",
   "metadata": {
    "vscode": {
     "languageId": "plaintext"
    }
   },
   "source": [
    "求解以下二次规划问题：\n",
    "$$\n",
    "\\begin{aligned}\n",
    "&\\min ~~ z = x_1^2+x_2^2+3x_3^2+4x_4^2+2x_5^2-8x_1-2x_2-3x_3-x_4-2x_5, \\\\\n",
    "&\\text{s.t.} ~~ \n",
    "\\begin{cases}\n",
    "x_1+x_2+x_3+x_4+x_5 \\leq 400, \\\\\n",
    "x_1+2x_2+2x_3+x_4+6x_5 \\leq 800, \\\\\n",
    "2x_1+x_2+6x_3 \\leq 200, \\\\\n",
    "x_3+x_4+5x_5 \\leq 200, \\\\\n",
    "0 \\leq x_i \\leq 99, \\quad i=1,\\dots,5.\n",
    "\\end{cases}\n",
    "\\end{aligned}\n",
    "$$"
   ]
  },
  {
   "cell_type": "code",
   "execution_count": null,
   "id": "39ac2e14",
   "metadata": {},
   "outputs": [
    {
     "data": {
      "text/plain": [
       "array([[1., 0., 0.],\n",
       "       [0., 2., 0.],\n",
       "       [0., 0., 3.]])"
      ]
     },
     "execution_count": 1,
     "metadata": {},
     "output_type": "execute_result"
    }
   ],
   "source": [
    "import numpy as np\n",
    "from cvxopt import solvers, matrix\n",
    "\n",
    "np.diag([1.0, 2.0, 3.0])"
   ]
  },
  {
   "cell_type": "code",
   "execution_count": null,
   "id": "5516371b",
   "metadata": {},
   "outputs": [
    {
     "name": "stdout",
     "output_type": "stream",
     "text": [
      "     pcost       dcost       gap    pres   dres\n",
      " 0:  2.4713e+04  3.6719e+04  2e+05  5e-01  3e+02\n",
      " 1:  4.4781e+03 -3.1072e+04  5e+04  8e-02  4e+01\n",
      " 2:  1.4835e+03 -3.2997e+04  4e+04  5e-02  2e+01\n",
      " 3:  6.5875e+02 -4.0251e+03  5e+03  4e-03  2e+00\n",
      " 4:  8.3099e+01 -3.0114e+02  4e+02  2e-05  9e-03\n",
      " 5: -6.8159e+00 -4.7208e+01  4e+01  2e-07  9e-05\n",
      " 6: -1.7336e+01 -2.1769e+01  4e+00  2e-16  3e-16\n",
      " 7: -1.8256e+01 -1.8673e+01  4e-01  2e-16  2e-16\n",
      " 8: -1.8311e+01 -1.8338e+01  3e-02  2e-16  1e-16\n",
      " 9: -1.8312e+01 -1.8313e+01  8e-04  2e-16  5e-17\n",
      "10: -1.8312e+01 -1.8313e+01  8e-06  2e-16  1e-16\n",
      "Optimal solution found.\n",
      "最优值: -18.312499999768285\n",
      "最优解:\n",
      "[4.         1.00000003 0.50000008 0.12500761 0.50000001]\n"
     ]
    }
   ],
   "source": [
    "\n",
    "\n",
    "Q = 2 * matrix(np.diag([1, 1, 3, 4, 2]), tc='d')\n",
    "\n",
    "# 按列存储\n",
    "p = matrix(np.array([-8, -2, -3, -1, -2]), tc='d')\n",
    "\n",
    "# Gx <= h\n",
    "# G_list 这里不需要转置\n",
    "G_list = [\n",
    "    [1, 1, 1, 1, 1],\n",
    "    [1, 2, 2, 1, 6],\n",
    "    [2, 1, 6, 0, 0],\n",
    "    [0, 0, 1, 1, 5],\n",
    "    [-1, 0, 0, 0, 0],       # x1 >= 0\n",
    "    [0, -1, 0, 0, 0],       # x2 >= 0\n",
    "    [0, 0, -1, 0, 0],       # x3 >= 0\n",
    "    [0, 0, 0, -1, 0],       # x4 >= 0\n",
    "    [0, 0, 0, 0, -1], \n",
    "    [1, 0, 0, 0, 0],\n",
    "    [0, 1, 0, 0, 0],\n",
    "    [0, 0, 1, 0, 0],\n",
    "    [0, 0, 0, 1, 0],\n",
    "    [0, 0, 0, 0, 1],\n",
    "]\n",
    "\n",
    "h_list = [\n",
    "    400,\n",
    "    800,\n",
    "    200,\n",
    "    200,\n",
    "    0,0,0,0,0,\n",
    "    99,99,99,99,99\n",
    "    \n",
    "]\n",
    "\n",
    "G = matrix(np.array(G_list), tc='d')\n",
    "\n",
    "h = matrix(np.array(h_list), tc='d')\n",
    "\n",
    "sol = solvers.qp(Q, p, G, h)\n",
    "\n",
    "# 输出结果\n",
    "print(\"最优值:\", sol['primal objective'])\n",
    "print(\"最优解:\")\n",
    "print(np.array(sol['x']).flatten())\n"
   ]
  }
 ],
 "metadata": {
  "kernelspec": {
   "display_name": "math_env",
   "language": "python",
   "name": "python3"
  },
  "language_info": {
   "codemirror_mode": {
    "name": "ipython",
    "version": 3
   },
   "file_extension": ".py",
   "mimetype": "text/x-python",
   "name": "python",
   "nbconvert_exporter": "python",
   "pygments_lexer": "ipython3",
   "version": "3.10.18"
  }
 },
 "nbformat": 4,
 "nbformat_minor": 5
}
