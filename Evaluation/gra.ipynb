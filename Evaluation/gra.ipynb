{
 "cells": [
  {
   "cell_type": "markdown",
   "id": "81302fe5",
   "metadata": {},
   "source": [
    "灰色关联度分析(Grey relational analysis)\n",
    "\n",
    "在灰色系统中，如何从纷乱的数据中找出影响系统核心行为（\"系统主行为\"）的关键因素（\"因子\"），并量化各因素影响程度的强弱次序？传统的数据分析（如回归分析、相关性分析）需要大量数据且要求数据符合一定的统计规律（如正态分布），而GRA则擅长在**数据量少**、**数据分布特征不明确**的情况下进行因素分析。"
   ]
  }
 ],
 "metadata": {
  "language_info": {
   "name": "python"
  }
 },
 "nbformat": 4,
 "nbformat_minor": 5
}
