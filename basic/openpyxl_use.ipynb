{
 "cells": [
  {
   "cell_type": "code",
   "execution_count": 13,
   "id": "de21ff11",
   "metadata": {},
   "outputs": [
    {
     "name": "stdout",
     "output_type": "stream",
     "text": [
      "((<Cell '问题2的订购方案结果'.B7>, <Cell '问题2的订购方案结果'.C7>, <Cell '问题2的订购方案结果'.D7>, <Cell '问题2的订购方案结果'.E7>, <Cell '问题2的订购方案结果'.F7>, <Cell '问题2的订购方案结果'.G7>, <Cell '问题2的订购方案结果'.H7>, <Cell '问题2的订购方案结果'.I7>, <Cell '问题2的订购方案结果'.J7>, <Cell '问题2的订购方案结果'.K7>), (<Cell '问题2的订购方案结果'.B8>, <Cell '问题2的订购方案结果'.C8>, <Cell '问题2的订购方案结果'.D8>, <Cell '问题2的订购方案结果'.E8>, <Cell '问题2的订购方案结果'.F8>, <Cell '问题2的订购方案结果'.G8>, <Cell '问题2的订购方案结果'.H8>, <Cell '问题2的订购方案结果'.I8>, <Cell '问题2的订购方案结果'.J8>, <Cell '问题2的订购方案结果'.K8>), (<Cell '问题2的订购方案结果'.B9>, <Cell '问题2的订购方案结果'.C9>, <Cell '问题2的订购方案结果'.D9>, <Cell '问题2的订购方案结果'.E9>, <Cell '问题2的订购方案结果'.F9>, <Cell '问题2的订购方案结果'.G9>, <Cell '问题2的订购方案结果'.H9>, <Cell '问题2的订购方案结果'.I9>, <Cell '问题2的订购方案结果'.J9>, <Cell '问题2的订购方案结果'.K9>), (<Cell '问题2的订购方案结果'.B10>, <Cell '问题2的订购方案结果'.C10>, <Cell '问题2的订购方案结果'.D10>, <Cell '问题2的订购方案结果'.E10>, <Cell '问题2的订购方案结果'.F10>, <Cell '问题2的订购方案结果'.G10>, <Cell '问题2的订购方案结果'.H10>, <Cell '问题2的订购方案结果'.I10>, <Cell '问题2的订购方案结果'.J10>, <Cell '问题2的订购方案结果'.K10>), (<Cell '问题2的订购方案结果'.B11>, <Cell '问题2的订购方案结果'.C11>, <Cell '问题2的订购方案结果'.D11>, <Cell '问题2的订购方案结果'.E11>, <Cell '问题2的订购方案结果'.F11>, <Cell '问题2的订购方案结果'.G11>, <Cell '问题2的订购方案结果'.H11>, <Cell '问题2的订购方案结果'.I11>, <Cell '问题2的订购方案结果'.J11>, <Cell '问题2的订购方案结果'.K11>), (<Cell '问题2的订购方案结果'.B12>, <Cell '问题2的订购方案结果'.C12>, <Cell '问题2的订购方案结果'.D12>, <Cell '问题2的订购方案结果'.E12>, <Cell '问题2的订购方案结果'.F12>, <Cell '问题2的订购方案结果'.G12>, <Cell '问题2的订购方案结果'.H12>, <Cell '问题2的订购方案结果'.I12>, <Cell '问题2的订购方案结果'.J12>, <Cell '问题2的订购方案结果'.K12>), (<Cell '问题2的订购方案结果'.B13>, <Cell '问题2的订购方案结果'.C13>, <Cell '问题2的订购方案结果'.D13>, <Cell '问题2的订购方案结果'.E13>, <Cell '问题2的订购方案结果'.F13>, <Cell '问题2的订购方案结果'.G13>, <Cell '问题2的订购方案结果'.H13>, <Cell '问题2的订购方案结果'.I13>, <Cell '问题2的订购方案结果'.J13>, <Cell '问题2的订购方案结果'.K13>), (<Cell '问题2的订购方案结果'.B14>, <Cell '问题2的订购方案结果'.C14>, <Cell '问题2的订购方案结果'.D14>, <Cell '问题2的订购方案结果'.E14>, <Cell '问题2的订购方案结果'.F14>, <Cell '问题2的订购方案结果'.G14>, <Cell '问题2的订购方案结果'.H14>, <Cell '问题2的订购方案结果'.I14>, <Cell '问题2的订购方案结果'.J14>, <Cell '问题2的订购方案结果'.K14>), (<Cell '问题2的订购方案结果'.B15>, <Cell '问题2的订购方案结果'.C15>, <Cell '问题2的订购方案结果'.D15>, <Cell '问题2的订购方案结果'.E15>, <Cell '问题2的订购方案结果'.F15>, <Cell '问题2的订购方案结果'.G15>, <Cell '问题2的订购方案结果'.H15>, <Cell '问题2的订购方案结果'.I15>, <Cell '问题2的订购方案结果'.J15>, <Cell '问题2的订购方案结果'.K15>), (<Cell '问题2的订购方案结果'.B16>, <Cell '问题2的订购方案结果'.C16>, <Cell '问题2的订购方案结果'.D16>, <Cell '问题2的订购方案结果'.E16>, <Cell '问题2的订购方案结果'.F16>, <Cell '问题2的订购方案结果'.G16>, <Cell '问题2的订购方案结果'.H16>, <Cell '问题2的订购方案结果'.I16>, <Cell '问题2的订购方案结果'.J16>, <Cell '问题2的订购方案结果'.K16>), (<Cell '问题2的订购方案结果'.B17>, <Cell '问题2的订购方案结果'.C17>, <Cell '问题2的订购方案结果'.D17>, <Cell '问题2的订购方案结果'.E17>, <Cell '问题2的订购方案结果'.F17>, <Cell '问题2的订购方案结果'.G17>, <Cell '问题2的订购方案结果'.H17>, <Cell '问题2的订购方案结果'.I17>, <Cell '问题2的订购方案结果'.J17>, <Cell '问题2的订购方案结果'.K17>), (<Cell '问题2的订购方案结果'.B18>, <Cell '问题2的订购方案结果'.C18>, <Cell '问题2的订购方案结果'.D18>, <Cell '问题2的订购方案结果'.E18>, <Cell '问题2的订购方案结果'.F18>, <Cell '问题2的订购方案结果'.G18>, <Cell '问题2的订购方案结果'.H18>, <Cell '问题2的订购方案结果'.I18>, <Cell '问题2的订购方案结果'.J18>, <Cell '问题2的订购方案结果'.K18>), (<Cell '问题2的订购方案结果'.B19>, <Cell '问题2的订购方案结果'.C19>, <Cell '问题2的订购方案结果'.D19>, <Cell '问题2的订购方案结果'.E19>, <Cell '问题2的订购方案结果'.F19>, <Cell '问题2的订购方案结果'.G19>, <Cell '问题2的订购方案结果'.H19>, <Cell '问题2的订购方案结果'.I19>, <Cell '问题2的订购方案结果'.J19>, <Cell '问题2的订购方案结果'.K19>), (<Cell '问题2的订购方案结果'.B20>, <Cell '问题2的订购方案结果'.C20>, <Cell '问题2的订购方案结果'.D20>, <Cell '问题2的订购方案结果'.E20>, <Cell '问题2的订购方案结果'.F20>, <Cell '问题2的订购方案结果'.G20>, <Cell '问题2的订购方案结果'.H20>, <Cell '问题2的订购方案结果'.I20>, <Cell '问题2的订购方案结果'.J20>, <Cell '问题2的订购方案结果'.K20>), (<Cell '问题2的订购方案结果'.B21>, <Cell '问题2的订购方案结果'.C21>, <Cell '问题2的订购方案结果'.D21>, <Cell '问题2的订购方案结果'.E21>, <Cell '问题2的订购方案结果'.F21>, <Cell '问题2的订购方案结果'.G21>, <Cell '问题2的订购方案结果'.H21>, <Cell '问题2的订购方案结果'.I21>, <Cell '问题2的订购方案结果'.J21>, <Cell '问题2的订购方案结果'.K21>), (<Cell '问题2的订购方案结果'.B22>, <Cell '问题2的订购方案结果'.C22>, <Cell '问题2的订购方案结果'.D22>, <Cell '问题2的订购方案结果'.E22>, <Cell '问题2的订购方案结果'.F22>, <Cell '问题2的订购方案结果'.G22>, <Cell '问题2的订购方案结果'.H22>, <Cell '问题2的订购方案结果'.I22>, <Cell '问题2的订购方案结果'.J22>, <Cell '问题2的订购方案结果'.K22>), (<Cell '问题2的订购方案结果'.B23>, <Cell '问题2的订购方案结果'.C23>, <Cell '问题2的订购方案结果'.D23>, <Cell '问题2的订购方案结果'.E23>, <Cell '问题2的订购方案结果'.F23>, <Cell '问题2的订购方案结果'.G23>, <Cell '问题2的订购方案结果'.H23>, <Cell '问题2的订购方案结果'.I23>, <Cell '问题2的订购方案结果'.J23>, <Cell '问题2的订购方案结果'.K23>), (<Cell '问题2的订购方案结果'.B24>, <Cell '问题2的订购方案结果'.C24>, <Cell '问题2的订购方案结果'.D24>, <Cell '问题2的订购方案结果'.E24>, <Cell '问题2的订购方案结果'.F24>, <Cell '问题2的订购方案结果'.G24>, <Cell '问题2的订购方案结果'.H24>, <Cell '问题2的订购方案结果'.I24>, <Cell '问题2的订购方案结果'.J24>, <Cell '问题2的订购方案结果'.K24>), (<Cell '问题2的订购方案结果'.B25>, <Cell '问题2的订购方案结果'.C25>, <Cell '问题2的订购方案结果'.D25>, <Cell '问题2的订购方案结果'.E25>, <Cell '问题2的订购方案结果'.F25>, <Cell '问题2的订购方案结果'.G25>, <Cell '问题2的订购方案结果'.H25>, <Cell '问题2的订购方案结果'.I25>, <Cell '问题2的订购方案结果'.J25>, <Cell '问题2的订购方案结果'.K25>), (<Cell '问题2的订购方案结果'.B26>, <Cell '问题2的订购方案结果'.C26>, <Cell '问题2的订购方案结果'.D26>, <Cell '问题2的订购方案结果'.E26>, <Cell '问题2的订购方案结果'.F26>, <Cell '问题2的订购方案结果'.G26>, <Cell '问题2的订购方案结果'.H26>, <Cell '问题2的订购方案结果'.I26>, <Cell '问题2的订购方案结果'.J26>, <Cell '问题2的订购方案结果'.K26>))\n",
      "20 10\n"
     ]
    }
   ],
   "source": [
    "from openpyxl import load_workbook\n",
    "\n",
    "file_path = \"example.xlsx\"\n",
    "\n",
    "wb = load_workbook(file_path)\n",
    "\n",
    "ws = wb[\"问题2的订购方案结果\"]\n",
    "\n",
    "cell_range = \"B7:K26\"\n",
    "\n",
    "cell_block = ws[cell_range]\n",
    "\n",
    "print(cell_block)\n",
    "\n",
    "num_rows = len(cell_block)\n",
    "num_cols = len(cell_block[0]) if num_rows > 0 else 0\n",
    "\n",
    "print(num_rows, num_cols)"
   ]
  },
  {
   "cell_type": "code",
   "execution_count": 14,
   "id": "3cfafcf3",
   "metadata": {},
   "outputs": [],
   "source": [
    "import numpy as np\n",
    "\n",
    "fill_value = 888\n",
    "fill_data = np.full((num_rows, num_cols), fill_value, dtype=np.float64)\n",
    "\n",
    "fill_data[1, 1] = np.nan\n",
    "\n",
    "for i, row in enumerate(cell_block):\n",
    "    # print(f\"the {i}th row is {row}\")\n",
    "    for j, cell in enumerate(row):\n",
    "        # print(f\"the {j}th cell is {cell}\")\n",
    "        if fill_data[i, j] is not None:\n",
    "            cell.value = fill_data[i, j]\n",
    "\n",
    "wb.save(\"filled_example.xlsx\")"
   ]
  }
 ],
 "metadata": {
  "kernelspec": {
   "display_name": "math_env",
   "language": "python",
   "name": "python3"
  },
  "language_info": {
   "codemirror_mode": {
    "name": "ipython",
    "version": 3
   },
   "file_extension": ".py",
   "mimetype": "text/x-python",
   "name": "python",
   "nbconvert_exporter": "python",
   "pygments_lexer": "ipython3",
   "version": "3.10.18"
  }
 },
 "nbformat": 4,
 "nbformat_minor": 5
}
