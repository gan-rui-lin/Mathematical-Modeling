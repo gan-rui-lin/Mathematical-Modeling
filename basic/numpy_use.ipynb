{
 "cells": [
  {
   "cell_type": "markdown",
   "id": "c3590bd3",
   "metadata": {},
   "source": [
    "正确的 numpy 索引方式"
   ]
  },
  {
   "cell_type": "code",
   "execution_count": 37,
   "id": "8c40a061",
   "metadata": {},
   "outputs": [
    {
     "name": "stdout",
     "output_type": "stream",
     "text": [
      "==============================\n",
      "(2, 6, 5, 2)\n",
      "(6, 5, 2)\n",
      "(6, 5, 2)\n",
      "错误的索引结果： (5, 2)\n",
      "正确的索引结果： (6, 5)\n"
     ]
    }
   ],
   "source": [
    "import numpy as np\n",
    "\n",
    "np.random.seed(42)\n",
    "\n",
    "arr = np.zeros((2, 6, 5, 2))\n",
    "len = [1, 2, 1, 1, 2]\n",
    "\n",
    "brr = np.zeros((2, 6, 2))\n",
    "\n",
    "for i in range(2):\n",
    "    for j in range(5):\n",
    "        for z in range(len[j]):\n",
    "            k = 6\n",
    "            indexs = np.random.choice(range(k), size=k, replace=False)\n",
    "            weights = np.random.rand(k)\n",
    "            proportions = np.random.rand(k)\n",
    "            proportions = proportions / np.sum(proportions)\n",
    "            arr[i, indexs, j, z] = proportions\n",
    "            brr[i, indexs, z] = weights\n",
    "# print(arr[0].round(3))\n",
    "# print(arr[0].round(3))\n",
    "print(\"=\" * 30)\n",
    "print(arr.shape)\n",
    "print(arr[0].shape)\n",
    "print(arr[0][:][:].shape)\n",
    "# Wrong style, 不要使用链式索引\n",
    "print(\"错误的索引结果：\", arr[0][:][:][0].shape)\n",
    "print(\"正确的索引结果：\", arr[0, :, :, 0].shape)\n",
    "\n",
    "# 验证 arr[i, :, j, z] 的和是否为 1\n",
    "for i in range(2):\n",
    "    for j in range(5):\n",
    "        for z in range(len[j]):\n",
    "            assert (arr[i, :, j, z].sum() - 1) < 1e-6\n"
   ]
  },
  {
   "cell_type": "code",
   "execution_count": 38,
   "id": "23d02c16",
   "metadata": {},
   "outputs": [
    {
     "name": "stdout",
     "output_type": "stream",
     "text": [
      "[[[[0.24206172 0.        ]\n",
      "   [0.35441711 0.04544662]\n",
      "   [0.32606711 0.        ]\n",
      "   [0.31589351 0.        ]\n",
      "   [0.18874148 0.06643247]]\n",
      "\n",
      "  [[0.00703702 0.        ]\n",
      "   [0.2229045  0.25480601]\n",
      "   [0.07141441 0.        ]\n",
      "   [0.21896713 0.        ]\n",
      "   [0.1183647  0.01935203]]\n",
      "\n",
      "  [[0.28457888 0.        ]\n",
      "   [0.03266015 0.01280617]\n",
      "   [0.21786942 0.        ]\n",
      "   [0.29461519 0.        ]\n",
      "   [0.17914817 0.31314448]]\n",
      "\n",
      "  [[0.06215869 0.        ]\n",
      "   [0.13786291 0.16391127]\n",
      "   [0.01648042 0.        ]\n",
      "   [0.01166609 0.        ]\n",
      "   [0.21349326 0.01565143]]\n",
      "\n",
      "  [[0.07259026 0.        ]\n",
      "   [0.16825016 0.33862777]\n",
      "   [0.33592276 0.        ]\n",
      "   [0.14835334 0.        ]\n",
      "   [0.21256155 0.1935598 ]]\n",
      "\n",
      "  [[0.33157343 0.        ]\n",
      "   [0.08390516 0.18440217]\n",
      "   [0.03224588 0.        ]\n",
      "   [0.01050474 0.        ]\n",
      "   [0.08769084 0.3918598 ]]]\n",
      "\n",
      "\n",
      " [[[0.13964965 0.        ]\n",
      "   [0.00325198 0.3455392 ]\n",
      "   [0.21980893 0.        ]\n",
      "   [0.26692273 0.        ]\n",
      "   [0.27226796 0.225328  ]]\n",
      "\n",
      "  [[0.29492858 0.        ]\n",
      "   [0.23891099 0.28494992]\n",
      "   [0.1266196  0.        ]\n",
      "   [0.0306451  0.        ]\n",
      "   [0.07339219 0.15481913]]\n",
      "\n",
      "  [[0.21565503 0.        ]\n",
      "   [0.10389481 0.02918138]\n",
      "   [0.26476819 0.        ]\n",
      "   [0.29968248 0.        ]\n",
      "   [0.19212017 0.08615472]]\n",
      "\n",
      "  [[0.04983274 0.        ]\n",
      "   [0.1952513  0.15795425]\n",
      "   [0.21623028 0.        ]\n",
      "   [0.12667987 0.        ]\n",
      "   [0.27323973 0.13438412]]\n",
      "\n",
      "  [[0.10318557 0.        ]\n",
      "   [0.40262179 0.16146541]\n",
      "   [0.06519701 0.        ]\n",
      "   [0.11109676 0.        ]\n",
      "   [0.02825285 0.18174573]]\n",
      "\n",
      "  [[0.19674844 0.        ]\n",
      "   [0.05606912 0.02090983]\n",
      "   [0.10737598 0.        ]\n",
      "   [0.16497307 0.        ]\n",
      "   [0.1607271  0.21756831]]]]\n",
      "[[[0.85003858 0.5612772 ]\n",
      "  [0.92630088 0.77096718]\n",
      "  [0.09541012 0.42754102]\n",
      "  [0.65107703 0.76078505]\n",
      "  [0.91495968 0.52273283]\n",
      "  [0.44945067 0.4937956 ]]\n",
      "\n",
      " [[0.65998405 0.93563499]\n",
      "  [0.87733935 0.85632429]\n",
      "  [0.55520081 0.8877701 ]\n",
      "  [0.8172222  0.40450813]\n",
      "  [0.25794163 0.84666114]\n",
      "  [0.92469362 0.85092845]]]\n"
     ]
    }
   ],
   "source": [
    "print(arr)\n",
    "print(brr)"
   ]
  },
  {
   "cell_type": "markdown",
   "id": "27fac0df",
   "metadata": {},
   "source": [
    "numpy 的 `axis` 分析：沿着对应 axis 轴做 `sum` 等操作，对应维度消失"
   ]
  },
  {
   "cell_type": "code",
   "execution_count": 4,
   "id": "82efe3a7",
   "metadata": {},
   "outputs": [
    {
     "name": "stdout",
     "output_type": "stream",
     "text": [
      "T.shape: (2, 3, 1, 2)\n",
      "Result shape: (2, 1)\n",
      "Result:\n",
      " [[21]\n",
      " [57]]\n"
     ]
    }
   ],
   "source": [
    "T = np.array([ \n",
    "    [[[1, 2]], [[3, 4]], [[5, 6]]],   # 第0个“大块”\n",
    "    [[[7, 8]], [[9, 10]], [[11, 12]]] # 第1个“大块”\n",
    "])\n",
    "print(\"T.shape:\", T.shape) # 输出: (2, 3, 1, 2)\n",
    "\n",
    "# 现在计算 np.sum(T, axis=(1, 3))\n",
    "result = np.sum(T, axis=(1, 3))\n",
    "print(\"Result shape:\", result.shape) # 输出: (2, 1)\n",
    "print(\"Result:\\n\", result)"
   ]
  },
  {
   "cell_type": "markdown",
   "id": "8f88cd5b",
   "metadata": {},
   "source": [
    "arr 提供了在 i 地块 index 物品的 j 年的 z 季度的比例, brr 提供在 i 地块 index 物品 z 季度的价格，请执行矩阵乘法得到所有 i 地块 j 年的总收入 result[i, j]\n",
    "\n",
    "\n",
    "计算 result[i, j]，即各地块各年份的 总收入：\n",
    "$$\n",
    "\\text{result}[i, j] = \\sum_{\\text{index}} \\sum_{z} \\left( \\text{arr}[i, \\text{index}, j, z] \\times \\text{brr}[i, \\text{index}, z] \\right)\n",
    "$$"
   ]
  },
  {
   "cell_type": "code",
   "execution_count": 39,
   "id": "a8a8ccc6",
   "metadata": {},
   "outputs": [
    {
     "name": "stdout",
     "output_type": "stream",
     "text": [
      "[[0.495 1.412 0.697 0.648 1.153]\n",
      " [0.72  1.396 0.696 0.654 1.543]]\n"
     ]
    }
   ],
   "source": [
    "# 对(i, j) 维度进行求和\n",
    "result = np.sum(arr * brr[:, :, np.newaxis, :], axis=(1, 3))\n",
    "\n",
    "print(result.round(3))\n",
    "\n",
    "result_manual = np.zeros((2, 5))\n",
    "for i in range(2):\n",
    "    for j in range(5):\n",
    "        total = 0\n",
    "        for index in range(6):\n",
    "            for z in range(2):\n",
    "                total += arr[i, index, j, z] * brr[i, index, z]\n",
    "        result_manual[i, j] = total\n",
    "\n",
    "assert np.allclose(result, result_manual, rtol=1e-3)  # 允许 0.001 的相对误差"
   ]
  },
  {
   "cell_type": "markdown",
   "id": "374e2dd8",
   "metadata": {},
   "source": [
    "基本索引操作总是创建视图。"
   ]
  },
  {
   "cell_type": "code",
   "execution_count": 46,
   "id": "d5d63d81",
   "metadata": {},
   "outputs": [
    {
     "name": "stdout",
     "output_type": "stream",
     "text": [
      "原来的 x:\n",
      "[0 1 2 3 4 5 6 7 8 9]\n",
      "原来的 y:\n",
      "[1 2]\n",
      "修改 x[1:3]\n",
      "修改后的 x:\n",
      "[ 0 10  9  3  4  5  6  7  8  9]\n",
      "影响到 y:(因为 y 是 x 的一个视图而非拷贝)\n",
      "[10  9]\n"
     ]
    }
   ],
   "source": [
    "x = np.arange(10)\n",
    "print(\"原来的 x:\")\n",
    "print(x)\n",
    "y = x[1:3]\n",
    "print(\"原来的 y:\")\n",
    "print(y)\n",
    "print(\"修改 x[1:3]\")\n",
    "x[1:3] = [10, 9]\n",
    "print(\"修改后的 x:\")\n",
    "print(x)\n",
    "print(\"影响到 y:(因为 y 是 x 的一个视图而非拷贝)\")\n",
    "print(y)"
   ]
  },
  {
   "cell_type": "markdown",
   "id": "907e811f",
   "metadata": {},
   "source": [
    "高级索引总是创建副本。\n",
    "\n",
    "当选择对象 obj 是非元组序列对象、ndarray（数据类型为整数或布尔），或者包含至少一个序列对象或 ndarray（数据类型为整数或布尔）的元组时，会触发高级索引。高级索引有两种类型：整数索引和布尔索引。"
   ]
  },
  {
   "cell_type": "code",
   "execution_count": 49,
   "id": "f4ce971e",
   "metadata": {},
   "outputs": [
    {
     "name": "stdout",
     "output_type": "stream",
     "text": [
      "[[0 1 2]\n",
      " [3 4 5]\n",
      " [6 7 8]]\n"
     ]
    },
    {
     "data": {
      "text/plain": [
       "True"
      ]
     },
     "execution_count": 49,
     "metadata": {},
     "output_type": "execute_result"
    }
   ],
   "source": [
    "import numpy as np\n",
    "x = np.arange(9).reshape(3, 3)\n",
    "print(x)\n",
    "\n",
    "y = x[[1, 2]]\n",
    "y\n",
    "\n",
    "y.base is None"
   ]
  }
 ],
 "metadata": {
  "kernelspec": {
   "display_name": "math_env",
   "language": "python",
   "name": "python3"
  },
  "language_info": {
   "codemirror_mode": {
    "name": "ipython",
    "version": 3
   },
   "file_extension": ".py",
   "mimetype": "text/x-python",
   "name": "python",
   "nbconvert_exporter": "python",
   "pygments_lexer": "ipython3",
   "version": "3.10.18"
  }
 },
 "nbformat": 4,
 "nbformat_minor": 5
}
